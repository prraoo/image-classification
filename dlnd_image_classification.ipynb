{
 "cells": [
  {
   "cell_type": "markdown",
   "metadata": {
    "collapsed": true
   },
   "source": [
    "# Image Classification\n",
    "In this project, you'll classify images from the [CIFAR-10 dataset](https://www.cs.toronto.edu/~kriz/cifar.html).  The dataset consists of airplanes, dogs, cats, and other objects. You'll preprocess the images, then train a convolutional neural network on all the samples. The images need to be normalized and the labels need to be one-hot encoded.  You'll get to apply what you learned and build a convolutional, max pooling, dropout, and fully connected layers.  At the end, you'll get to see your neural network's predictions on the sample images.\n",
    "## Get the Data \n",
    "Run the following cell to download the [CIFAR-10 dataset for python](https://www.cs.toronto.edu/~kriz/cifar-10-python.tar.gz)."
   ]
  },
  {
   "cell_type": "code",
   "execution_count": 1,
   "metadata": {
    "collapsed": false
   },
   "outputs": [
    {
     "name": "stdout",
     "output_type": "stream",
     "text": [
      "All files found!\n"
     ]
    }
   ],
   "source": [
    "\"\"\"\n",
    "DON'T MODIFY ANYTHING IN THIS CELL THAT IS BELOW THIS LINE\n",
    "\"\"\"\n",
    "from urllib.request import urlretrieve\n",
    "from os.path import isfile, isdir\n",
    "from tqdm import tqdm\n",
    "import problem_unittests as tests\n",
    "import tarfile\n",
    "\n",
    "cifar10_dataset_folder_path = 'cifar-10-batches-py'\n",
    "\n",
    "class DLProgress(tqdm):\n",
    "    last_block = 0\n",
    "\n",
    "    def hook(self, block_num=1, block_size=1, total_size=None, verify=False):\n",
    "        self.total = total_size\n",
    "        self.update((block_num - self.last_block) * block_size)\n",
    "        self.last_block = block_num\n",
    "\n",
    "if not isfile('cifar-10-python.tar.gz'):\n",
    "    with DLProgress(unit='B', unit_scale=True, miniters=1, desc='CIFAR-10 Dataset') as pbar:\n",
    "        urlretrieve(\n",
    "            'https://www.cs.toronto.edu/~kriz/cifar-10-python.tar.gz',\n",
    "            'cifar-10-python.tar.gz',\n",
    "            pbar.hook)\n",
    "\n",
    "if not isdir(cifar10_dataset_folder_path):\n",
    "    with tarfile.open('cifar-10-python.tar.gz') as tar:\n",
    "        tar.extractall()\n",
    "        tar.close()\n",
    "\n",
    "\n",
    "tests.test_folder_path(cifar10_dataset_folder_path)"
   ]
  },
  {
   "cell_type": "markdown",
   "metadata": {},
   "source": [
    "## Explore the Data\n",
    "The dataset is broken into batches to prevent your machine from running out of memory.  The CIFAR-10 dataset consists of 5 batches, named `data_batch_1`, `data_batch_2`, etc.. Each batch contains the labels and images that are one of the following:\n",
    "* airplane\n",
    "* automobile\n",
    "* bird\n",
    "* cat\n",
    "* deer\n",
    "* dog\n",
    "* frog\n",
    "* horse\n",
    "* ship\n",
    "* truck\n",
    "\n",
    "Understanding a dataset is part of making predictions on the data.  Play around with the code cell below by changing the `batch_id` and `sample_id`. The `batch_id` is the id for a batch (1-5). The `sample_id` is the id for a image and label pair in the batch.\n",
    "\n",
    "Ask yourself \"What are all possible labels?\", \"What is the range of values for the image data?\", \"Are the labels in order or random?\".  Answers to questions like these will help you preprocess the data and end up with better predictions."
   ]
  },
  {
   "cell_type": "code",
   "execution_count": 3,
   "metadata": {
    "collapsed": false
   },
   "outputs": [
    {
     "name": "stdout",
     "output_type": "stream",
     "text": [
      "\n",
      "Stats of batch 5:\n",
      "Samples: 10000\n",
      "Label Counts: {0: 1014, 1: 1014, 2: 952, 3: 1016, 4: 997, 5: 1025, 6: 980, 7: 977, 8: 1003, 9: 1022}\n",
      "First 20 Labels: [1, 8, 5, 1, 5, 7, 4, 3, 8, 2, 7, 2, 0, 1, 5, 9, 6, 2, 0, 8]\n",
      "\n",
      "Example of Image 777:\n",
      "Image - Min Value: 2 Max Value: 255\n",
      "Image - Shape: (32, 32, 3)\n",
      "Label - Label Id: 9 Name: truck\n"
     ]
    },
    {
     "data": {
      "image/png": "[encoded data removed]",
      "text/plain": [
       "<matplotlib.figure.Figure at 0x174c40f8160>"
      ]
     },
     "metadata": {
      "image/png": {
       "height": 250,
       "width": 253
      }
     },
     "output_type": "display_data"
    }
   ],
   "source": [
    "%matplotlib inline\n",
    "%config InlineBackend.figure_format = 'retina'\n",
    "\n",
    "import helper\n",
    "import numpy as np\n",
    "\n",
    "# Explore the dataset\n",
    "batch_id = 5\n",
    "sample_id = 777\n",
    "helper.display_stats(cifar10_dataset_folder_path, batch_id, sample_id)"
   ]
  },
  {
   "cell_type": "markdown",
   "metadata": {},
   "source": [
    "## Implement Preprocess Functions\n",
    "### Normalize\n",
    "In the cell below, implement the `normalize` function to take in image data, `x`, and return it as a normalized Numpy array. The values should be in the range of 0 to 1, inclusive.  The return object should be the same shape as `x`."
   ]
  },
  {
   "cell_type": "code",
   "execution_count": 17,
   "metadata": {
    "collapsed": false,
    "scrolled": true
   },
   "outputs": [
    {
     "name": "stdout",
     "output_type": "stream",
     "text": [
      "Tests Passed\n"
     ]
    }
   ],
   "source": [
    "from sklearn.preprocessing import Normalizer as normal\n",
    "\n",
    "def normalize(x):\n",
    "    \"\"\"\n",
    "    Normalize a list of sample image data in the range of 0 to 1\n",
    "    : x: List of image data.  The image shape is (32, 32, 3)\n",
    "    : return: Numpy array of normalize data\n",
    "    \"\"\"\n",
    "    # TODO: Implement Function\n",
    "    x = x/255\n",
    "    \n",
    "    x = np.reshape(x,(-1,32,32,3))\n",
    "    \n",
    "    return x\n",
    "\n",
    "\"\"\"\n",
    "DON'T MODIFY ANYTHING IN THIS CELL THAT IS BELOW THIS LINE\n",
    "\"\"\"\n",
    "tests.test_normalize(normalize)\n"
   ]
  },
  {
   "cell_type": "markdown",
   "metadata": {},
   "source": [
    "### One-hot encode\n",
    "Just like the previous code cell, you'll be implementing a function for preprocessing.  This time, you'll implement the `one_hot_encode` function. The input, `x`, are a list of labels.  Implement the function to return the list of labels as One-Hot encoded Numpy array.  The possible values for labels are 0 to 9. The one-hot encoding function should return the same encoding for each value between each call to `one_hot_encode`.  Make sure to save the map of encodings outside the function.\n",
    "\n",
    "Hint: Don't reinvent the wheel."
   ]
  },
  {
   "cell_type": "code",
   "execution_count": 20,
   "metadata": {
    "collapsed": false
   },
   "outputs": [
    {
     "name": "stdout",
     "output_type": "stream",
     "text": [
      "Tests Passed\n"
     ]
    }
   ],
   "source": [
    "from sklearn.preprocessing import LabelBinarizer\n",
    "\n",
    "enc_map = range(0,10)\n",
    "\n",
    "def one_hot_encode(x):\n",
    "    \"\"\"\n",
    "    One hot encode a list of sample labels. Return a one-hot encoded vector for each label.\n",
    "    : x: List of sample Labels\n",
    "    : return: Numpy array of one-hot encoded labels\n",
    "    \"\"\"\n",
    "    # TODO: Implement Function\n",
    "    enc = LabelBinarizer()\n",
    "    \n",
    "    enc.fit(enc_map)\n",
    "     \n",
    "    return enc.transform(x)\n",
    "\n",
    "\"\"\"\n",
    "DON'T MODIFY ANYTHING IN THIS CELL THAT IS BELOW THIS LINE\n",
    "\"\"\"\n",
    "tests.test_one_hot_encode(one_hot_encode)"
   ]
  },
  {
   "cell_type": "markdown",
   "metadata": {},
   "source": [
    "### Randomize Data\n",
    "As you saw from exploring the data above, the order of the samples are randomized.  It doesn't hurt to randomize it again, but you don't need to for this dataset."
   ]
  },
  {
   "cell_type": "markdown",
   "metadata": {},
   "source": [
    "## Preprocess all the data and save it\n",
    "Running the code cell below will preprocess all the CIFAR-10 data and save it to file. The code below also uses 10% of the training data for validation."
   ]
  },
  {
   "cell_type": "code",
   "execution_count": 6,
   "metadata": {
    "collapsed": true
   },
   "outputs": [],
   "source": [
    "\"\"\"\n",
    "DON'T MODIFY ANYTHING IN THIS CELL\n",
    "\"\"\"\n",
    "# Preprocess Training, Validation, and Testing Data\n",
    "helper.preprocess_and_save_data(cifar10_dataset_folder_path, normalize, one_hot_encode)"
   ]
  },
  {
   "cell_type": "markdown",
   "metadata": {},
   "source": [
    "# Check Point\n",
    "This is your first checkpoint.  If you ever decide to come back to this notebook or have to restart the notebook, you can start from here.  The preprocessed data has been saved to disk."
   ]
  },
  {
   "cell_type": "code",
   "execution_count": 1,
   "metadata": {
    "collapsed": true
   },
   "outputs": [],
   "source": [
    "\"\"\"\n",
    "DON'T MODIFY ANYTHING IN THIS CELL\n",
    "\"\"\"\n",
    "import pickle\n",
    "import problem_unittests as tests\n",
    "import helper\n",
    "\n",
    "# Load the Preprocessed Validation data\n",
    "valid_features, valid_labels = pickle.load(open('preprocess_validation.p', mode='rb'))"
   ]
  },
  {
   "cell_type": "markdown",
   "metadata": {},
   "source": [
    "## Build the network\n",
    "For the neural network, you'll build each layer into a function.  Most of the code you've seen has been outside of functions. To test your code more thoroughly, we require that you put each layer in a function.  This allows us to give you better feedback and test for simple mistakes using our unittests before you submit your project.\n",
    "\n",
    "If you're finding it hard to dedicate enough time for this course a week, we've provided a small shortcut to this part of the project. In the next couple of problems, you'll have the option to use [TensorFlow Layers](https://www.tensorflow.org/api_docs/python/tf/layers) or [TensorFlow Layers (contrib)](https://www.tensorflow.org/api_guides/python/contrib.layers) to build each layer, except \"Convolutional & Max Pooling\" layer.  TF Layers is similar to Keras's and TFLearn's abstraction to layers, so it's easy to pickup.\n",
    "\n",
    "If you would like to get the most of this course, try to solve all the problems without TF Layers.  Let's begin!\n",
    "### Input\n",
    "The neural network needs to read the image data, one-hot encoded labels, and dropout keep probability. Implement the following functions\n",
    "* Implement `neural_net_image_input`\n",
    " * Return a [TF Placeholder](https://www.tensorflow.org/api_docs/python/tf/placeholder)\n",
    " * Set the shape using `image_shape` with batch size set to `None`.\n",
    " * Name the TensorFlow placeholder \"x\" using the TensorFlow `name` parameter in the [TF Placeholder](https://www.tensorflow.org/api_docs/python/tf/placeholder).\n",
    "* Implement `neural_net_label_input`\n",
    " * Return a [TF Placeholder](https://www.tensorflow.org/api_docs/python/tf/placeholder)\n",
    " * Set the shape using `n_classes` with batch size set to `None`.\n",
    " * Name the TensorFlow placeholder \"y\" using the TensorFlow `name` parameter in the [TF Placeholder](https://www.tensorflow.org/api_docs/python/tf/placeholder).\n",
    "* Implement `neural_net_keep_prob_input`\n",
    " * Return a [TF Placeholder](https://www.tensorflow.org/api_docs/python/tf/placeholder) for dropout keep probability.\n",
    " * Name the TensorFlow placeholder \"keep_prob\" using the TensorFlow `name` parameter in the [TF Placeholder](https://www.tensorflow.org/api_docs/python/tf/placeholder).\n",
    "\n",
    "These names will be used at the end of the project to load your saved model.\n",
    "\n",
    "Note: `None` for shapes in TensorFlow allow for a dynamic size."
   ]
  },
  {
   "cell_type": "code",
   "execution_count": 21,
   "metadata": {
    "collapsed": false
   },
   "outputs": [
    {
     "name": "stdout",
     "output_type": "stream",
     "text": [
      "Image Input Tests Passed.\n",
      "Label Input Tests Passed.\n",
      "Keep Prob Tests Passed.\n"
     ]
    }
   ],
   "source": [
    "import tensorflow as tf\n",
    "\n",
    "def neural_net_image_input(image_shape):\n",
    "    \"\"\"\n",
    "    Return a Tensor for a batch of image input\n",
    "    : image_shape: Shape of the images\n",
    "    : return: Tensor for image input.\n",
    "    \"\"\"\n",
    "    # TODO: Implement Function\n",
    "    return tf.placeholder(tf.float32, shape=(None, *image_shape), name='x')\n",
    "\n",
    "\n",
    "def neural_net_label_input(n_classes):\n",
    "    \"\"\"\n",
    "    Return a Tensor for a batch of label input\n",
    "    : n_classes: Number of classes\n",
    "    : return: Tensor for label input.\n",
    "    \"\"\"\n",
    "    # TODO: Implement Function\n",
    "    return tf.placeholder(tf.float32, shape=(None, n_classes), name='y')\n",
    "\n",
    "\n",
    "def neural_net_keep_prob_input():\n",
    "    \"\"\"\n",
    "    Return a Tensor for keep probability\n",
    "    : return: Tensor for keep probability.\n",
    "    \"\"\"\n",
    "    # TODO: Implement Function\n",
    "    return tf.placeholder(tf.float32, name='keep_prob')\n",
    "\n",
    "\n",
    "\"\"\"\n",
    "DON'T MODIFY ANYTHING IN THIS CELL THAT IS BELOW THIS LINE\n",
    "\"\"\"\n",
    "tf.reset_default_graph()\n",
    "tests.test_nn_image_inputs(neural_net_image_input)\n",
    "tests.test_nn_label_inputs(neural_net_label_input)\n",
    "tests.test_nn_keep_prob_inputs(neural_net_keep_prob_input)"
   ]
  },
  {
   "cell_type": "markdown",
   "metadata": {},
   "source": [
    "### Convolution and Max Pooling Layer\n",
    "Convolution layers have a lot of success with images. For this code cell, you should implement the function `conv2d_maxpool` to apply convolution then max pooling:\n",
    "* Create the weight and bias using `conv_ksize`, `conv_num_outputs` and the shape of `x_tensor`.\n",
    "* Apply a convolution to `x_tensor` using weight and `conv_strides`.\n",
    " * We recommend you use same padding, but you're welcome to use any padding.\n",
    "* Add bias\n",
    "* Add a nonlinear activation to the convolution.\n",
    "* Apply Max Pooling using `pool_ksize` and `pool_strides`.\n",
    " * We recommend you use same padding, but you're welcome to use any padding.\n",
    "\n",
    "Note: You **can't** use [TensorFlow Layers](https://www.tensorflow.org/api_docs/python/tf/layers) or [TensorFlow Layers (contrib)](https://www.tensorflow.org/api_guides/python/contrib.layers) for this layer.  You're free to use any TensorFlow package for all the other layers."
   ]
  },
  {
   "cell_type": "code",
   "execution_count": 22,
   "metadata": {
    "collapsed": false
   },
   "outputs": [
    {
     "name": "stdout",
     "output_type": "stream",
     "text": [
      "Tests Passed\n"
     ]
    }
   ],
   "source": [
    "def conv2d_maxpool(x_tensor, conv_num_outputs, conv_ksize, conv_strides, pool_ksize, pool_strides):\n",
    "    \"\"\"\n",
    "    Apply convolution then max pooling to x_tensor\n",
    "    :param x_tensor: TensorFlow Tensor\n",
    "    :param conv_num_outputs: Number of outputs for the convolutional layer\n",
    "    :param conv_strides: Stride 2-D Tuple for convolution\n",
    "    :param pool_ksize: kernal size 2-D Tuple for pool\n",
    "    :param pool_strides: Stride 2-D Tuple for pool\n",
    "    : return: A tensor that represents convolution and max pooling of x_tensor\n",
    "    \"\"\"\n",
    "    # TODO: Implement Function\n",
    "    input_shape = x_tensor.get_shape().as_list()\n",
    "    \n",
    "    filter_shape = list(conv_ksize + (input_shape[3],) + (conv_num_outputs,))\n",
    "    \n",
    "    filter_weight = tf.Variable(tf.truncated_normal(filter_shape, mean=0, stddev= 0.1))\n",
    "           \n",
    "    filter_bias = tf.Variable(tf.zeros(conv_num_outputs))\n",
    "    \n",
    "    filter_stride = list((1,) + conv_strides + (1,))\n",
    "  \n",
    "    model = tf.nn.conv2d(input = x_tensor,filter = filter_weight,strides = filter_stride, padding= 'SAME')\n",
    "    \n",
    "    model = tf.nn.bias_add(model,filter_bias)\n",
    "    \n",
    "    model = tf.nn.relu(model)\n",
    "    \n",
    "    pool_ksize = list((1,) + pool_ksize + (1,))\n",
    "\n",
    "    pool_strides = list((1,) + pool_strides + (1,))\n",
    "    \n",
    "    return tf.nn.max_pool(model, pool_ksize, pool_strides, padding = 'SAME')\n",
    "\"\"\"\n",
    "DON'T MODIFY ANYTHING IN THIS CELL THAT IS BELOW THIS LINE\n",
    "\"\"\"\n",
    "tests.test_con_pool(conv2d_maxpool)"
   ]
  },
  {
   "cell_type": "markdown",
   "metadata": {},
   "source": [
    "### Flatten Layer\n",
    "Implement the `flatten` function to change the dimension of `x_tensor` from a 4-D tensor to a 2-D tensor.  The output should be the shape (*Batch Size*, *Flattened Image Size*). You can use [TensorFlow Layers](https://www.tensorflow.org/api_docs/python/tf/layers) or [TensorFlow Layers (contrib)](https://www.tensorflow.org/api_guides/python/contrib.layers) for this layer."
   ]
  },
  {
   "cell_type": "code",
   "execution_count": 23,
   "metadata": {
    "collapsed": false
   },
   "outputs": [
    {
     "name": "stdout",
     "output_type": "stream",
     "text": [
      "Tests Passed\n"
     ]
    }
   ],
   "source": [
    "import numpy as np \n",
    "def flatten(x_tensor):\n",
    "    \"\"\"\n",
    "    Flatten x_tensor to (Batch Size, Flattened Image Size)\n",
    "    : x_tensor: A tensor of size (Batch Size, ...), where ... are the image dimensions.\n",
    "    : return: A tensor of size (Batch Size, Flattened Image Size).\n",
    "    \"\"\"\n",
    "    # TODO: Implement Function   \n",
    "    input_shape = x_tensor.get_shape().as_list()\n",
    "    \n",
    "    flatten_image_size = np.prod(np.array(input_shape[1:]))\n",
    "    \n",
    "    return tf.reshape(x_tensor,shape=(-1,flatten_image_size))\n",
    "\n",
    "\n",
    "\"\"\"\n",
    "DON'T MODIFY ANYTHING IN THIS CELL THAT IS BELOW THIS LINE\n",
    "\"\"\"\n",
    "tests.test_flatten(flatten)"
   ]
  },
  {
   "cell_type": "markdown",
   "metadata": {},
   "source": [
    "### Fully-Connected Layer\n",
    "Implement the `fully_conn` function to apply a fully connected layer to `x_tensor` with the shape (*Batch Size*, *num_outputs*). You can use [TensorFlow Layers](https://www.tensorflow.org/api_docs/python/tf/layers) or [TensorFlow Layers (contrib)](https://www.tensorflow.org/api_guides/python/contrib.layers) for this layer."
   ]
  },
  {
   "cell_type": "code",
   "execution_count": 24,
   "metadata": {
    "collapsed": false
   },
   "outputs": [
    {
     "name": "stdout",
     "output_type": "stream",
     "text": [
      "Tests Passed\n"
     ]
    }
   ],
   "source": [
    "def fully_conn(x_tensor, num_outputs):\n",
    "    \"\"\"\n",
    "    Apply a fully connected layer to x_tensor using weight and bias\n",
    "    : x_tensor: A 2-D tensor where the first dimension is batch size.\n",
    "    : num_outputs: The number of output that the new tensor should be.\n",
    "    : return: A 2-D tensor where the second dimension is num_outputs.\n",
    "    \"\"\"\n",
    "    # TODO: Implement Function\n",
    "    input_shape = (x_tensor.get_shape().as_list())\n",
    "    \n",
    "    flat_input = [input_shape[1] , num_outputs]\n",
    "    \n",
    "    fc_weights = tf.Variable(tf.truncated_normal(flat_input, mean=0, stddev=0.1))\n",
    "    \n",
    "    fc_biases = tf.Variable(tf.zeros([num_outputs]))\n",
    "    \n",
    "    fc_layer = tf.add(tf.matmul(x_tensor, fc_weights), fc_biases)\n",
    "    \n",
    "    return tf.nn.relu(fc_layer)\n",
    "\n",
    "\n",
    "\"\"\"\n",
    "DON'T MODIFY ANYTHING IN THIS CELL THAT IS BELOW THIS LINE\n",
    "\"\"\"\n",
    "tests.test_fully_conn(fully_conn)"
   ]
  },
  {
   "cell_type": "markdown",
   "metadata": {},
   "source": [
    "### Output Layer\n",
    "Implement the `output` function to apply a fully connected layer to `x_tensor` with the shape (*Batch Size*, *num_outputs*). You can use [TensorFlow Layers](https://www.tensorflow.org/api_docs/python/tf/layers) or [TensorFlow Layers (contrib)](https://www.tensorflow.org/api_guides/python/contrib.layers) for this layer.\n",
    "\n",
    "Note: Activation, softmax, or cross entropy shouldn't be applied to this."
   ]
  },
  {
   "cell_type": "code",
   "execution_count": 25,
   "metadata": {
    "collapsed": false
   },
   "outputs": [
    {
     "name": "stdout",
     "output_type": "stream",
     "text": [
      "Tests Passed\n"
     ]
    }
   ],
   "source": [
    "def output(x_tensor, num_outputs):\n",
    "    \"\"\"\n",
    "    Apply a output layer to x_tensor using weight and bias\n",
    "    : x_tensor: A 2-D tensor where the first dimension is batch size.\n",
    "    : num_outputs: The number of output that the new tensor should be.\n",
    "    : return: A 2-D tensor where the second dimension is num_outputs.\n",
    "    \"\"\"\n",
    "    # TODO: Implement Function\n",
    "\n",
    "    input_shape = (x_tensor.get_shape().as_list())\n",
    "    \n",
    "    flat_input = [input_shape[1] , num_outputs]\n",
    "    \n",
    "    fc_weights = tf.Variable(tf.truncated_normal(flat_input, mean=0, stddev=0.1))\n",
    "    \n",
    "    fc_biases = tf.Variable(tf.zeros([num_outputs]))\n",
    "    \n",
    "    return tf.add(tf.matmul(x_tensor, fc_weights), fc_biases)\n",
    "\n",
    "\n",
    "\n",
    "\"\"\"\n",
    "DON'T MODIFY ANYTHING IN THIS CELL THAT IS BELOW THIS LINE\n",
    "\"\"\"\n",
    "tests.test_output(output)"
   ]
  },
  {
   "cell_type": "markdown",
   "metadata": {},
   "source": [
    "### Create Convolutional Model\n",
    "Implement the function `conv_net` to create a convolutional neural network model. The function takes in a batch of images, `x`, and outputs logits.  Use the layers you created above to create this model:\n",
    "\n",
    "* Apply 1, 2, or 3 Convolution and Max Pool layers\n",
    "* Apply a Flatten Layer\n",
    "* Apply 1, 2, or 3 Fully Connected Layers\n",
    "* Apply an Output Layer\n",
    "* Return the output\n",
    "* Apply [TensorFlow's Dropout](https://www.tensorflow.org/api_docs/python/tf/nn/dropout) to one or more layers in the model using `keep_prob`. "
   ]
  },
  {
   "cell_type": "code",
   "execution_count": 26,
   "metadata": {
    "collapsed": false
   },
   "outputs": [
    {
     "name": "stdout",
     "output_type": "stream",
     "text": [
      "Neural Network Built!\n"
     ]
    }
   ],
   "source": [
    "def conv_net(x, keep_prob):\n",
    "    \"\"\"\n",
    "    Create a convolutional neural network model\n",
    "    : x: Placeholder tensor that holds image data.\n",
    "    : keep_prob: Placeholder tensor that hold dropout keep probability.\n",
    "    : return: Tensor that represents logits\n",
    "    \"\"\"\n",
    "    # TODO: Apply 1, 2, or 3 Convolution and Max Pool layers\n",
    "    #    Play around with different number of outputs, kernel size and stride\n",
    "    # Function Definition from Above:\n",
    "    #   conv2d_maxpool(x_tensor, conv_num_outputs, conv_ksize, conv_strides, pool_ksize, pool_strides)\n",
    "    \n",
    "    conv_layer = conv2d_maxpool(x, conv_num_outputs = 64, conv_ksize = (4,4), conv_strides = (2,2)\n",
    "                             , pool_ksize = (4,4), pool_strides = (2,2))\n",
    "    \n",
    "    conv_layer = conv2d_maxpool(conv_layer, conv_num_outputs = 128, conv_ksize = (6,6), conv_strides = (2,2)\n",
    "                             , pool_ksize = (4,4), pool_strides = (2,2))\n",
    "    \n",
    "    conv_layer = tf.nn.dropout(conv_layer, keep_prob = keep_prob)\n",
    "    \n",
    "    # TODO: Apply a Flatten Layer\n",
    "    # Function Definition from Above:\n",
    "    #   flatten(x_tensor)\n",
    "    \n",
    "    flatten_layer = flatten(conv_layer)\n",
    "    \n",
    "\n",
    "    # TODO: Apply 1, 2, or 3 Fully Connected Layers\n",
    "    #    Play around with different number of outputs\n",
    "    # Function Definition from Above:\n",
    "    #   fully_conn(x_tensor, num_outputs)\n",
    "    \n",
    "    full_conn_layer = fully_conn(flatten_layer, 256)\n",
    "    \n",
    "    full_conn_layer = tf.nn.dropout(full_conn_layer, keep_prob= keep_prob)\n",
    "    \n",
    "    full_conn_layer = fully_conn(flatten_layer, 128)\n",
    "    \n",
    "    \n",
    "    \n",
    "    # TODO: Apply an Output Layer\n",
    "    #    Set this to the number of classes\n",
    "    # Function Definition from Above:\n",
    "    #   output(x_tensor, num_outputs)\n",
    "    # TODO: return output\n",
    "    return output(full_conn_layer,10)\n",
    "\n",
    "\"\"\"\n",
    "DON'T MODIFY ANYTHING IN THIS CELL THAT IS BELOW THIS LINE\n",
    "\"\"\"\n",
    "\n",
    "##############################\n",
    "## Build the Neural Network ##\n",
    "##############################\n",
    "\n",
    "# Remove previous weights, bias, inputs, etc..\n",
    "tf.reset_default_graph()\n",
    "\n",
    "# Inputs\n",
    "x = neural_net_image_input((32, 32, 3))\n",
    "y = neural_net_label_input(10)\n",
    "keep_prob = neural_net_keep_prob_input()\n",
    "\n",
    "# Model\n",
    "logits = conv_net(x, keep_prob)\n",
    "\n",
    "# Name logits Tensor, so that is can be loaded from disk after training\n",
    "logits = tf.identity(logits, name='logits')\n",
    "\n",
    "# Loss and Optimizer\n",
    "cost = tf.reduce_mean(tf.nn.softmax_cross_entropy_with_logits(logits=logits, labels=y))\n",
    "optimizer = tf.train.AdamOptimizer().minimize(cost)\n",
    "\n",
    "# Accuracy\n",
    "correct_pred = tf.equal(tf.argmax(logits, 1), tf.argmax(y, 1))\n",
    "accuracy = tf.reduce_mean(tf.cast(correct_pred, tf.float32), name='accuracy')\n",
    "\n",
    "tests.test_conv_net(conv_net)"
   ]
  },
  {
   "cell_type": "markdown",
   "metadata": {},
   "source": [
    "## Train the Neural Network\n",
    "### Single Optimization\n",
    "Implement the function `train_neural_network` to do a single optimization.  The optimization should use `optimizer` to optimize in `session` with a `feed_dict` of the following:\n",
    "* `x` for image input\n",
    "* `y` for labels\n",
    "* `keep_prob` for keep probability for dropout\n",
    "\n",
    "This function will be called for each batch, so `tf.global_variables_initializer()` has already been called.\n",
    "\n",
    "Note: Nothing needs to be returned. This function is only optimizing the neural network."
   ]
  },
  {
   "cell_type": "code",
   "execution_count": 27,
   "metadata": {
    "collapsed": false
   },
   "outputs": [
    {
     "name": "stdout",
     "output_type": "stream",
     "text": [
      "Tests Passed\n"
     ]
    }
   ],
   "source": [
    "def train_neural_network(session, optimizer, keep_probability, feature_batch, label_batch):\n",
    "    \"\"\"\n",
    "    Optimize the session on a batch of images and labels\n",
    "    : session: Current TensorFlow session\n",
    "    : optimizer: TensorFlow optimizer function\n",
    "    : keep_probability: keep probability\n",
    "    : feature_batch: Batch of Numpy image data\n",
    "    : label_batch: Batch of Numpy label data\n",
    "    \"\"\"\n",
    "    # TODO: Implement Function\n",
    "    session.run(optimizer, feed_dict={x: feature_batch, y: label_batch, keep_prob: keep_probability})\n",
    "\n",
    "\"\"\"\n",
    "DON'T MODIFY ANYTHING IN THIS CELL THAT IS BELOW THIS LINE\n",
    "\"\"\"\n",
    "tests.test_train_nn(train_neural_network)"
   ]
  },
  {
   "cell_type": "markdown",
   "metadata": {},
   "source": [
    "### Show Stats\n",
    "Implement the function `print_stats` to print loss and validation accuracy.  Use the global variables `valid_features` and `valid_labels` to calculate validation accuracy.  Use a keep probability of `1.0` to calculate the loss and validation accuracy."
   ]
  },
  {
   "cell_type": "code",
   "execution_count": 28,
   "metadata": {
    "collapsed": true
   },
   "outputs": [],
   "source": [
    "def print_stats(session, feature_batch, label_batch, cost, accuracy):\n",
    "    \"\"\"\n",
    "    Print information about loss and validation accuracy\n",
    "    : session: Current TensorFlow session\n",
    "    : feature_batch: Batch of Numpy image data\n",
    "    : label_batch: Batch of Numpy label data\n",
    "    : cost: TensorFlow cost function\n",
    "    : accuracy: TensorFlow accuracy function\n",
    "    \"\"\"\n",
    "    # TODO: Implement Function\n",
    "    loss = sess.run(cost, feed_dict={x: feature_batch, y: label_batch, keep_prob: 1.})\n",
    "    valid_acc = sess.run(accuracy, feed_dict={x: valid_features, y: valid_labels, keep_prob: 1.})\n",
    "    print(' Loss-> {:>10.4f} || Validation Accuracy->{:.6f}'.format(loss, valid_acc))\n",
    "    "
   ]
  },
  {
   "cell_type": "markdown",
   "metadata": {},
   "source": [
    "### Hyperparameters\n",
    "Tune the following parameters:\n",
    "* Set `epochs` to the number of iterations until the network stops learning or start overfitting\n",
    "* Set `batch_size` to the highest number that your machine has memory for.  Most people set them to common sizes of memory:\n",
    " * 64\n",
    " * 128\n",
    " * 256\n",
    " * ...\n",
    "* Set `keep_probability` to the probability of keeping a node using dropout"
   ]
  },
  {
   "cell_type": "code",
   "execution_count": 29,
   "metadata": {
    "collapsed": true
   },
   "outputs": [],
   "source": [
    "# TODO: Tune Parameters\n",
    "epochs = 30\n",
    "batch_size = 512\n",
    "keep_probability = .5"
   ]
  },
  {
   "cell_type": "markdown",
   "metadata": {},
   "source": [
    "### Train on a Single CIFAR-10 Batch\n",
    "Instead of training the neural network on all the CIFAR-10 batches of data, let's use a single batch. This should save time while you iterate on the model to get a better accuracy.  Once the final validation accuracy is 50% or greater, run the model on all the data in the next section."
   ]
  },
  {
   "cell_type": "code",
   "execution_count": 30,
   "metadata": {
    "collapsed": false
   },
   "outputs": [
    {
     "name": "stdout",
     "output_type": "stream",
     "text": [
      "Checking the Training on a Single Batch...\n",
      "Epoch 1, CIFAR-10 Batch 1:   Loss->     2.2529 || Validation Accuracy->0.209400\n",
      "Epoch 2, CIFAR-10 Batch 1:   Loss->     2.1012 || Validation Accuracy->0.259600\n",
      "Epoch 3, CIFAR-10 Batch 1:   Loss->     1.9557 || Validation Accuracy->0.315000\n",
      "Epoch 4, CIFAR-10 Batch 1:   Loss->     1.8230 || Validation Accuracy->0.356800\n",
      "Epoch 5, CIFAR-10 Batch 1:   Loss->     1.7273 || Validation Accuracy->0.393200\n",
      "Epoch 6, CIFAR-10 Batch 1:   Loss->     1.6118 || Validation Accuracy->0.420200\n",
      "Epoch 7, CIFAR-10 Batch 1:   Loss->     1.5223 || Validation Accuracy->0.453000\n",
      "Epoch 8, CIFAR-10 Batch 1:   Loss->     1.4393 || Validation Accuracy->0.475400\n",
      "Epoch 9, CIFAR-10 Batch 1:   Loss->     1.3671 || Validation Accuracy->0.496200\n",
      "Epoch 10, CIFAR-10 Batch 1:   Loss->     1.3033 || Validation Accuracy->0.499800\n",
      "Epoch 11, CIFAR-10 Batch 1:   Loss->     1.2412 || Validation Accuracy->0.515600\n",
      "Epoch 12, CIFAR-10 Batch 1:   Loss->     1.1786 || Validation Accuracy->0.526200\n",
      "Epoch 13, CIFAR-10 Batch 1:   Loss->     1.1375 || Validation Accuracy->0.532800\n",
      "Epoch 14, CIFAR-10 Batch 1:   Loss->     1.0731 || Validation Accuracy->0.545400\n",
      "Epoch 15, CIFAR-10 Batch 1:   Loss->     1.0319 || Validation Accuracy->0.554400\n",
      "Epoch 16, CIFAR-10 Batch 1:   Loss->     0.9860 || Validation Accuracy->0.556200\n",
      "Epoch 17, CIFAR-10 Batch 1:   Loss->     0.9423 || Validation Accuracy->0.557800\n",
      "Epoch 18, CIFAR-10 Batch 1:   Loss->     0.9046 || Validation Accuracy->0.570800\n",
      "Epoch 19, CIFAR-10 Batch 1:   Loss->     0.8827 || Validation Accuracy->0.569000\n",
      "Epoch 20, CIFAR-10 Batch 1:   Loss->     0.8262 || Validation Accuracy->0.574600\n",
      "Epoch 21, CIFAR-10 Batch 1:   Loss->     0.7683 || Validation Accuracy->0.590400\n",
      "Epoch 22, CIFAR-10 Batch 1:   Loss->     0.7551 || Validation Accuracy->0.585600\n",
      "Epoch 23, CIFAR-10 Batch 1:   Loss->     0.7250 || Validation Accuracy->0.590000\n",
      "Epoch 24, CIFAR-10 Batch 1:   Loss->     0.6643 || Validation Accuracy->0.595800\n",
      "Epoch 25, CIFAR-10 Batch 1:   Loss->     0.6366 || Validation Accuracy->0.593400\n",
      "Epoch 26, CIFAR-10 Batch 1:   Loss->     0.6122 || Validation Accuracy->0.595200\n",
      "Epoch 27, CIFAR-10 Batch 1:   Loss->     0.5832 || Validation Accuracy->0.597000\n",
      "Epoch 28, CIFAR-10 Batch 1:   Loss->     0.5685 || Validation Accuracy->0.599600\n",
      "Epoch 29, CIFAR-10 Batch 1:   Loss->     0.5227 || Validation Accuracy->0.604800\n",
      "Epoch 30, CIFAR-10 Batch 1:   Loss->     0.4874 || Validation Accuracy->0.603400\n"
     ]
    }
   ],
   "source": [
    "\"\"\"\n",
    "DON'T MODIFY ANYTHING IN THIS CELL\n",
    "\"\"\"\n",
    "print('Checking the Training on a Single Batch...')\n",
    "config = tf.ConfigProto()\n",
    "\n",
    "config.gpu_options.allow_growth=True\n",
    "\n",
    "with tf.Session(config = config) as sess:\n",
    "    # Initializing the variables\n",
    "    sess.run(tf.global_variables_initializer())\n",
    "    \n",
    "    # Training cycle\n",
    "    for epoch in range(epochs):\n",
    "        batch_i = 1\n",
    "        for batch_features, batch_labels in helper.load_preprocess_training_batch(batch_i, batch_size):\n",
    "            train_neural_network(sess, optimizer, keep_probability, batch_features, batch_labels)\n",
    "        print('Epoch {:>1}, CIFAR-10 Batch {}:  '.format(epoch + 1, batch_i), end='')\n",
    "        print_stats(sess, batch_features, batch_labels, cost, accuracy)"
   ]
  },
  {
   "cell_type": "markdown",
   "metadata": {},
   "source": [
    "### Fully Train the Model\n",
    "Now that you got a good accuracy with a single CIFAR-10 batch, try it with all five batches."
   ]
  },
  {
   "cell_type": "code",
   "execution_count": 31,
   "metadata": {
    "collapsed": false,
    "scrolled": false
   },
   "outputs": [
    {
     "name": "stdout",
     "output_type": "stream",
     "text": [
      "Training...\n",
      "Epoch  1, CIFAR-10 Batch 1:   Loss->     2.2402 || Validation Accuracy->0.186800\n",
      "Epoch  1, CIFAR-10 Batch 2:   Loss->     2.0311 || Validation Accuracy->0.295200\n",
      "Epoch  1, CIFAR-10 Batch 3:   Loss->     1.8060 || Validation Accuracy->0.330000\n",
      "Epoch  1, CIFAR-10 Batch 4:   Loss->     1.6763 || Validation Accuracy->0.372000\n",
      "Epoch  1, CIFAR-10 Batch 5:   Loss->     1.6520 || Validation Accuracy->0.402400\n",
      "Epoch  2, CIFAR-10 Batch 1:   Loss->     1.6652 || Validation Accuracy->0.426000\n",
      "Epoch  2, CIFAR-10 Batch 2:   Loss->     1.5383 || Validation Accuracy->0.452400\n",
      "Epoch  2, CIFAR-10 Batch 3:   Loss->     1.3338 || Validation Accuracy->0.463000\n",
      "Epoch  2, CIFAR-10 Batch 4:   Loss->     1.3421 || Validation Accuracy->0.487000\n",
      "Epoch  2, CIFAR-10 Batch 5:   Loss->     1.3379 || Validation Accuracy->0.498600\n",
      "Epoch  3, CIFAR-10 Batch 1:   Loss->     1.4005 || Validation Accuracy->0.515200\n",
      "Epoch  3, CIFAR-10 Batch 2:   Loss->     1.3180 || Validation Accuracy->0.529400\n",
      "Epoch  3, CIFAR-10 Batch 3:   Loss->     1.1500 || Validation Accuracy->0.529200\n",
      "Epoch  3, CIFAR-10 Batch 4:   Loss->     1.1675 || Validation Accuracy->0.535200\n",
      "Epoch  3, CIFAR-10 Batch 5:   Loss->     1.1790 || Validation Accuracy->0.552800\n",
      "Epoch  4, CIFAR-10 Batch 1:   Loss->     1.2764 || Validation Accuracy->0.560000\n",
      "Epoch  4, CIFAR-10 Batch 2:   Loss->     1.1852 || Validation Accuracy->0.564800\n",
      "Epoch  4, CIFAR-10 Batch 3:   Loss->     1.0903 || Validation Accuracy->0.550600\n",
      "Epoch  4, CIFAR-10 Batch 4:   Loss->     1.0636 || Validation Accuracy->0.557400\n",
      "Epoch  4, CIFAR-10 Batch 5:   Loss->     1.0730 || Validation Accuracy->0.578200\n",
      "Epoch  5, CIFAR-10 Batch 1:   Loss->     1.2023 || Validation Accuracy->0.575800\n",
      "Epoch  5, CIFAR-10 Batch 2:   Loss->     1.1127 || Validation Accuracy->0.589200\n",
      "Epoch  5, CIFAR-10 Batch 3:   Loss->     0.9927 || Validation Accuracy->0.586200\n",
      "Epoch  5, CIFAR-10 Batch 4:   Loss->     0.9805 || Validation Accuracy->0.591400\n",
      "Epoch  5, CIFAR-10 Batch 5:   Loss->     1.0029 || Validation Accuracy->0.598800\n",
      "Epoch  6, CIFAR-10 Batch 1:   Loss->     1.1337 || Validation Accuracy->0.590000\n",
      "Epoch  6, CIFAR-10 Batch 2:   Loss->     1.0458 || Validation Accuracy->0.601000\n",
      "Epoch  6, CIFAR-10 Batch 3:   Loss->     0.9576 || Validation Accuracy->0.590800\n",
      "Epoch  6, CIFAR-10 Batch 4:   Loss->     0.9019 || Validation Accuracy->0.614200\n",
      "Epoch  6, CIFAR-10 Batch 5:   Loss->     0.9415 || Validation Accuracy->0.615400\n",
      "Epoch  7, CIFAR-10 Batch 1:   Loss->     1.0355 || Validation Accuracy->0.615800\n",
      "Epoch  7, CIFAR-10 Batch 2:   Loss->     0.9722 || Validation Accuracy->0.608800\n",
      "Epoch  7, CIFAR-10 Batch 3:   Loss->     0.8808 || Validation Accuracy->0.604200\n",
      "Epoch  7, CIFAR-10 Batch 4:   Loss->     0.8629 || Validation Accuracy->0.621600\n",
      "Epoch  7, CIFAR-10 Batch 5:   Loss->     0.8944 || Validation Accuracy->0.618400\n",
      "Epoch  8, CIFAR-10 Batch 1:   Loss->     0.9639 || Validation Accuracy->0.630000\n",
      "Epoch  8, CIFAR-10 Batch 2:   Loss->     0.9004 || Validation Accuracy->0.620800\n",
      "Epoch  8, CIFAR-10 Batch 3:   Loss->     0.8448 || Validation Accuracy->0.624000\n",
      "Epoch  8, CIFAR-10 Batch 4:   Loss->     0.8364 || Validation Accuracy->0.630200\n",
      "Epoch  8, CIFAR-10 Batch 5:   Loss->     0.8253 || Validation Accuracy->0.636600\n",
      "Epoch  9, CIFAR-10 Batch 1:   Loss->     0.9022 || Validation Accuracy->0.644000\n",
      "Epoch  9, CIFAR-10 Batch 2:   Loss->     0.8633 || Validation Accuracy->0.634400\n",
      "Epoch  9, CIFAR-10 Batch 3:   Loss->     0.7807 || Validation Accuracy->0.635200\n",
      "Epoch  9, CIFAR-10 Batch 4:   Loss->     0.7983 || Validation Accuracy->0.634400\n",
      "Epoch  9, CIFAR-10 Batch 5:   Loss->     0.8188 || Validation Accuracy->0.639000\n",
      "Epoch 10, CIFAR-10 Batch 1:   Loss->     0.8631 || Validation Accuracy->0.645200\n",
      "Epoch 10, CIFAR-10 Batch 2:   Loss->     0.8311 || Validation Accuracy->0.623200\n",
      "Epoch 10, CIFAR-10 Batch 3:   Loss->     0.7708 || Validation Accuracy->0.628600\n",
      "Epoch 10, CIFAR-10 Batch 4:   Loss->     0.7703 || Validation Accuracy->0.640000\n",
      "Epoch 10, CIFAR-10 Batch 5:   Loss->     0.7491 || Validation Accuracy->0.646200\n",
      "Epoch 11, CIFAR-10 Batch 1:   Loss->     0.8185 || Validation Accuracy->0.652400\n",
      "Epoch 11, CIFAR-10 Batch 2:   Loss->     0.7820 || Validation Accuracy->0.630800\n",
      "Epoch 11, CIFAR-10 Batch 3:   Loss->     0.6975 || Validation Accuracy->0.652200\n",
      "Epoch 11, CIFAR-10 Batch 4:   Loss->     0.7191 || Validation Accuracy->0.655400\n",
      "Epoch 11, CIFAR-10 Batch 5:   Loss->     0.7246 || Validation Accuracy->0.663800\n",
      "Epoch 12, CIFAR-10 Batch 1:   Loss->     0.7860 || Validation Accuracy->0.653400\n",
      "Epoch 12, CIFAR-10 Batch 2:   Loss->     0.7697 || Validation Accuracy->0.641600\n",
      "Epoch 12, CIFAR-10 Batch 3:   Loss->     0.6729 || Validation Accuracy->0.657400\n",
      "Epoch 12, CIFAR-10 Batch 4:   Loss->     0.6867 || Validation Accuracy->0.662000\n",
      "Epoch 12, CIFAR-10 Batch 5:   Loss->     0.6794 || Validation Accuracy->0.667600\n",
      "Epoch 13, CIFAR-10 Batch 1:   Loss->     0.7215 || Validation Accuracy->0.667600\n",
      "Epoch 13, CIFAR-10 Batch 2:   Loss->     0.6896 || Validation Accuracy->0.661800\n",
      "Epoch 13, CIFAR-10 Batch 3:   Loss->     0.6391 || Validation Accuracy->0.666400\n",
      "Epoch 13, CIFAR-10 Batch 4:   Loss->     0.6743 || Validation Accuracy->0.662800\n",
      "Epoch 13, CIFAR-10 Batch 5:   Loss->     0.6480 || Validation Accuracy->0.671600\n",
      "Epoch 14, CIFAR-10 Batch 1:   Loss->     0.7142 || Validation Accuracy->0.669200\n",
      "Epoch 14, CIFAR-10 Batch 2:   Loss->     0.6627 || Validation Accuracy->0.665600\n",
      "Epoch 14, CIFAR-10 Batch 3:   Loss->     0.6169 || Validation Accuracy->0.672200\n",
      "Epoch 14, CIFAR-10 Batch 4:   Loss->     0.6129 || Validation Accuracy->0.674800\n",
      "Epoch 14, CIFAR-10 Batch 5:   Loss->     0.6146 || Validation Accuracy->0.678800\n",
      "Epoch 15, CIFAR-10 Batch 1:   Loss->     0.6608 || Validation Accuracy->0.671000\n",
      "Epoch 15, CIFAR-10 Batch 2:   Loss->     0.6365 || Validation Accuracy->0.669400\n",
      "Epoch 15, CIFAR-10 Batch 3:   Loss->     0.5722 || Validation Accuracy->0.675600\n",
      "Epoch 15, CIFAR-10 Batch 4:   Loss->     0.5867 || Validation Accuracy->0.678400\n",
      "Epoch 15, CIFAR-10 Batch 5:   Loss->     0.5731 || Validation Accuracy->0.679000\n",
      "Epoch 16, CIFAR-10 Batch 1:   Loss->     0.6675 || Validation Accuracy->0.671000\n",
      "Epoch 16, CIFAR-10 Batch 2:   Loss->     0.6142 || Validation Accuracy->0.664400\n",
      "Epoch 16, CIFAR-10 Batch 3:   Loss->     0.5731 || Validation Accuracy->0.677000\n",
      "Epoch 16, CIFAR-10 Batch 4:   Loss->     0.5699 || Validation Accuracy->0.681000\n",
      "Epoch 16, CIFAR-10 Batch 5:   Loss->     0.5410 || Validation Accuracy->0.688600\n",
      "Epoch 17, CIFAR-10 Batch 1:   Loss->     0.6132 || Validation Accuracy->0.682000\n",
      "Epoch 17, CIFAR-10 Batch 2:   Loss->     0.5934 || Validation Accuracy->0.670000\n",
      "Epoch 17, CIFAR-10 Batch 3:   Loss->     0.5525 || Validation Accuracy->0.678000\n",
      "Epoch 17, CIFAR-10 Batch 4:   Loss->     0.5652 || Validation Accuracy->0.676800\n",
      "Epoch 17, CIFAR-10 Batch 5:   Loss->     0.5251 || Validation Accuracy->0.685200\n",
      "Epoch 18, CIFAR-10 Batch 1:   Loss->     0.5789 || Validation Accuracy->0.679400\n",
      "Epoch 18, CIFAR-10 Batch 2:   Loss->     0.5583 || Validation Accuracy->0.683600\n",
      "Epoch 18, CIFAR-10 Batch 3:   Loss->     0.5314 || Validation Accuracy->0.679200\n",
      "Epoch 18, CIFAR-10 Batch 4:   Loss->     0.5365 || Validation Accuracy->0.681200\n",
      "Epoch 18, CIFAR-10 Batch 5:   Loss->     0.4927 || Validation Accuracy->0.688000\n",
      "Epoch 19, CIFAR-10 Batch 1:   Loss->     0.5794 || Validation Accuracy->0.688600\n",
      "Epoch 19, CIFAR-10 Batch 2:   Loss->     0.5320 || Validation Accuracy->0.684200\n",
      "Epoch 19, CIFAR-10 Batch 3:   Loss->     0.4974 || Validation Accuracy->0.683800\n",
      "Epoch 19, CIFAR-10 Batch 4:   Loss->     0.5278 || Validation Accuracy->0.685400\n",
      "Epoch 19, CIFAR-10 Batch 5:   Loss->     0.4734 || Validation Accuracy->0.689600\n",
      "Epoch 20, CIFAR-10 Batch 1:   Loss->     0.5617 || Validation Accuracy->0.690200\n",
      "Epoch 20, CIFAR-10 Batch 2:   Loss->     0.4778 || Validation Accuracy->0.692400\n",
      "Epoch 20, CIFAR-10 Batch 3:   Loss->     0.4791 || Validation Accuracy->0.684800\n",
      "Epoch 20, CIFAR-10 Batch 4:   Loss->     0.4662 || Validation Accuracy->0.695600\n",
      "Epoch 20, CIFAR-10 Batch 5:   Loss->     0.4526 || Validation Accuracy->0.695800\n",
      "Epoch 21, CIFAR-10 Batch 1:   Loss->     0.5134 || Validation Accuracy->0.698200\n",
      "Epoch 21, CIFAR-10 Batch 2:   Loss->     0.4712 || Validation Accuracy->0.697200\n",
      "Epoch 21, CIFAR-10 Batch 3:   Loss->     0.4500 || Validation Accuracy->0.693800\n",
      "Epoch 21, CIFAR-10 Batch 4:   Loss->     0.4528 || Validation Accuracy->0.694800\n",
      "Epoch 21, CIFAR-10 Batch 5:   Loss->     0.4268 || Validation Accuracy->0.698000\n",
      "Epoch 22, CIFAR-10 Batch 1:   Loss->     0.5168 || Validation Accuracy->0.688600\n",
      "Epoch 22, CIFAR-10 Batch 2:   Loss->     0.4412 || Validation Accuracy->0.693000\n",
      "Epoch 22, CIFAR-10 Batch 3:   Loss->     0.4341 || Validation Accuracy->0.700400\n",
      "Epoch 22, CIFAR-10 Batch 4:   Loss->     0.4486 || Validation Accuracy->0.700000\n",
      "Epoch 22, CIFAR-10 Batch 5:   Loss->     0.4203 || Validation Accuracy->0.689400\n",
      "Epoch 23, CIFAR-10 Batch 1:   Loss->     0.4793 || Validation Accuracy->0.699800\n",
      "Epoch 23, CIFAR-10 Batch 2:   Loss->     0.4225 || Validation Accuracy->0.695800\n",
      "Epoch 23, CIFAR-10 Batch 3:   Loss->     0.4192 || Validation Accuracy->0.697800\n",
      "Epoch 23, CIFAR-10 Batch 4:   Loss->     0.4201 || Validation Accuracy->0.694800\n",
      "Epoch 23, CIFAR-10 Batch 5:   Loss->     0.3915 || Validation Accuracy->0.697400\n",
      "Epoch 24, CIFAR-10 Batch 1:   Loss->     0.4587 || Validation Accuracy->0.702400\n",
      "Epoch 24, CIFAR-10 Batch 2:   Loss->     0.3984 || Validation Accuracy->0.692000\n",
      "Epoch 24, CIFAR-10 Batch 3:   Loss->     0.3897 || Validation Accuracy->0.705600\n",
      "Epoch 24, CIFAR-10 Batch 4:   Loss->     0.4101 || Validation Accuracy->0.704200\n",
      "Epoch 24, CIFAR-10 Batch 5:   Loss->     0.3881 || Validation Accuracy->0.699800\n",
      "Epoch 25, CIFAR-10 Batch 1:   Loss->     0.4447 || Validation Accuracy->0.706400\n",
      "Epoch 25, CIFAR-10 Batch 2:   Loss->     0.3725 || Validation Accuracy->0.704800\n",
      "Epoch 25, CIFAR-10 Batch 3:   Loss->     0.3830 || Validation Accuracy->0.696000\n",
      "Epoch 25, CIFAR-10 Batch 4:   Loss->     0.3879 || Validation Accuracy->0.697000\n",
      "Epoch 25, CIFAR-10 Batch 5:   Loss->     0.3721 || Validation Accuracy->0.703600\n",
      "Epoch 26, CIFAR-10 Batch 1:   Loss->     0.4249 || Validation Accuracy->0.705200\n",
      "Epoch 26, CIFAR-10 Batch 2:   Loss->     0.3667 || Validation Accuracy->0.701000\n",
      "Epoch 26, CIFAR-10 Batch 3:   Loss->     0.3519 || Validation Accuracy->0.701400\n",
      "Epoch 26, CIFAR-10 Batch 4:   Loss->     0.3821 || Validation Accuracy->0.700800\n",
      "Epoch 26, CIFAR-10 Batch 5:   Loss->     0.3448 || Validation Accuracy->0.698200\n",
      "Epoch 27, CIFAR-10 Batch 1:   Loss->     0.4213 || Validation Accuracy->0.705400\n",
      "Epoch 27, CIFAR-10 Batch 2:   Loss->     0.3364 || Validation Accuracy->0.708400\n",
      "Epoch 27, CIFAR-10 Batch 3:   Loss->     0.3306 || Validation Accuracy->0.707000\n",
      "Epoch 27, CIFAR-10 Batch 4:   Loss->     0.3636 || Validation Accuracy->0.692400\n",
      "Epoch 27, CIFAR-10 Batch 5:   Loss->     0.3364 || Validation Accuracy->0.694000\n",
      "Epoch 28, CIFAR-10 Batch 1:   Loss->     0.3781 || Validation Accuracy->0.707600\n",
      "Epoch 28, CIFAR-10 Batch 2:   Loss->     0.3313 || Validation Accuracy->0.713000\n",
      "Epoch 28, CIFAR-10 Batch 3:   Loss->     0.3289 || Validation Accuracy->0.710800\n",
      "Epoch 28, CIFAR-10 Batch 4:   Loss->     0.3680 || Validation Accuracy->0.704000\n",
      "Epoch 28, CIFAR-10 Batch 5:   Loss->     0.3148 || Validation Accuracy->0.705200\n",
      "Epoch 29, CIFAR-10 Batch 1:   Loss->     0.3741 || Validation Accuracy->0.709000\n",
      "Epoch 29, CIFAR-10 Batch 2:   Loss->     0.3036 || Validation Accuracy->0.701400\n",
      "Epoch 29, CIFAR-10 Batch 3:   Loss->     0.3185 || Validation Accuracy->0.703000\n",
      "Epoch 29, CIFAR-10 Batch 4:   Loss->     0.3435 || Validation Accuracy->0.700800\n",
      "Epoch 29, CIFAR-10 Batch 5:   Loss->     0.3184 || Validation Accuracy->0.697800\n",
      "Epoch 30, CIFAR-10 Batch 1:   Loss->     0.3828 || Validation Accuracy->0.707000\n",
      "Epoch 30, CIFAR-10 Batch 2:   Loss->     0.3254 || Validation Accuracy->0.700400\n",
      "Epoch 30, CIFAR-10 Batch 3:   Loss->     0.3105 || Validation Accuracy->0.700400\n",
      "Epoch 30, CIFAR-10 Batch 4:   Loss->     0.3214 || Validation Accuracy->0.696800\n",
      "Epoch 30, CIFAR-10 Batch 5:   Loss->     0.3084 || Validation Accuracy->0.698400\n"
     ]
    }
   ],
   "source": [
    "\"\"\"\n",
    "DON'T MODIFY ANYTHING IN THIS CELL\n",
    "\"\"\"\n",
    "save_model_path = './image_classification'\n",
    "\n",
    "print('Training...')\n",
    "with tf.Session() as sess:\n",
    "    # Initializing the variables\n",
    "    sess.run(tf.global_variables_initializer())\n",
    "    \n",
    "    # Training cycle\n",
    "    for epoch in range(epochs):\n",
    "        # Loop over all batches\n",
    "        n_batches = 5\n",
    "        for batch_i in range(1, n_batches + 1):\n",
    "            for batch_features, batch_labels in helper.load_preprocess_training_batch(batch_i, batch_size):\n",
    "                train_neural_network(sess, optimizer, keep_probability, batch_features, batch_labels)\n",
    "            print('Epoch {:>2}, CIFAR-10 Batch {}:  '.format(epoch + 1, batch_i), end='')\n",
    "            print_stats(sess, batch_features, batch_labels, cost, accuracy)\n",
    "            \n",
    "    # Save Model\n",
    "    saver = tf.train.Saver()\n",
    "    save_path = saver.save(sess, save_model_path)"
   ]
  },
  {
   "cell_type": "markdown",
   "metadata": {},
   "source": [
    "# Checkpoint\n",
    "The model has been saved to disk.\n",
    "## Test Model\n",
    "Test your model against the test dataset.  This will be your final accuracy. You should have an accuracy greater than 50%. If you don't, keep tweaking the model architecture and parameters."
   ]
  },
  {
   "cell_type": "code",
   "execution_count": 32,
   "metadata": {
    "collapsed": false
   },
   "outputs": [
    {
     "name": "stdout",
     "output_type": "stream",
     "text": [
      "INFO:tensorflow:Restoring parameters from ./image_classification\n",
      "Testing Accuracy: 0.6946633726358413\n",
      "\n"
     ]
    },
    {
     "data": {
      "image/png": "[encoded data removed]",
      "text/plain": [
       "<matplotlib.figure.Figure at 0x26a58af0208>"
      ]
     },
     "metadata": {
      "image/png": {
       "height": 319,
       "width": 355
      }
     },
     "output_type": "display_data"
    }
   ],
   "source": [
    "\"\"\"\n",
    "DON'T MODIFY ANYTHING IN THIS CELL\n",
    "\"\"\"\n",
    "%matplotlib inline\n",
    "%config InlineBackend.figure_format = 'retina'\n",
    "\n",
    "import tensorflow as tf\n",
    "import pickle\n",
    "import helper\n",
    "import random\n",
    "\n",
    "# Set batch size if not already set\n",
    "try:\n",
    "    if batch_size:\n",
    "        pass\n",
    "except NameError:\n",
    "    batch_size = 64\n",
    "\n",
    "save_model_path = './image_classification'\n",
    "n_samples = 4\n",
    "top_n_predictions = 3\n",
    "\n",
    "def test_model():\n",
    "    \"\"\"\n",
    "    Test the saved model against the test dataset\n",
    "    \"\"\"\n",
    "\n",
    "    test_features, test_labels = pickle.load(open('preprocess_training.p', mode='rb'))\n",
    "    loaded_graph = tf.Graph()\n",
    "\n",
    "    with tf.Session(graph=loaded_graph) as sess:\n",
    "        # Load model\n",
    "        loader = tf.train.import_meta_graph(save_model_path + '.meta')\n",
    "        loader.restore(sess, save_model_path)\n",
    "\n",
    "        # Get Tensors from loaded model\n",
    "        loaded_x = loaded_graph.get_tensor_by_name('x:0')\n",
    "        loaded_y = loaded_graph.get_tensor_by_name('y:0')\n",
    "        loaded_keep_prob = loaded_graph.get_tensor_by_name('keep_prob:0')\n",
    "        loaded_logits = loaded_graph.get_tensor_by_name('logits:0')\n",
    "        loaded_acc = loaded_graph.get_tensor_by_name('accuracy:0')\n",
    "        \n",
    "        # Get accuracy in batches for memory limitations\n",
    "        test_batch_acc_total = 0\n",
    "        test_batch_count = 0\n",
    "        \n",
    "        for train_feature_batch, train_label_batch in helper.batch_features_labels(test_features, test_labels, batch_size):\n",
    "            test_batch_acc_total += sess.run(\n",
    "                loaded_acc,\n",
    "                feed_dict={loaded_x: train_feature_batch, loaded_y: train_label_batch, loaded_keep_prob: 1.0})\n",
    "            test_batch_count += 1\n",
    "\n",
    "        print('Testing Accuracy: {}\\n'.format(test_batch_acc_total/test_batch_count))\n",
    "\n",
    "        # Print Random Samples\n",
    "        random_test_features, random_test_labels = tuple(zip(*random.sample(list(zip(test_features, test_labels)), n_samples)))\n",
    "        random_test_predictions = sess.run(\n",
    "            tf.nn.top_k(tf.nn.softmax(loaded_logits), top_n_predictions),\n",
    "            feed_dict={loaded_x: random_test_features, loaded_y: random_test_labels, loaded_keep_prob: 1.0})\n",
    "        helper.display_image_predictions(random_test_features, random_test_labels, random_test_predictions)\n",
    "\n",
    "\n",
    "test_model()"
   ]
  },
  {
   "cell_type": "markdown",
   "metadata": {},
   "source": [
    "## Why 50-70% Accuracy?\n",
    "You might be wondering why you can't get an accuracy any higher. First things first, 50% isn't bad for a simple CNN.  Pure guessing would get you 10% accuracy. However, you might notice people are getting scores [well above 70%](http://rodrigob.github.io/are_we_there_yet/build/classification_datasets_results.html#43494641522d3130).  That's because we haven't taught you all there is to know about neural networks. We still need to cover a few more techniques.\n",
    "## Submitting This Project\n",
    "When submitting this project, make sure to run all the cells before saving the notebook.  Save the notebook file as \"dlnd_image_classification.ipynb\" and save it as a HTML file under \"File\" -> \"Download as\".  Include the \"helper.py\" and \"problem_unittests.py\" files in your submission."
   ]
  }
 ],
 "metadata": {
  "anaconda-cloud": {},
  "kernelspec": {
   "display_name": "Python 3",
   "language": "python",
   "name": "python3"
  },
  "language_info": {
   "codemirror_mode": {
    "name": "ipython",
    "version": 3
   },
   "file_extension": ".py",
   "mimetype": "text/x-python",
   "name": "python",
   "nbconvert_exporter": "python",
   "pygments_lexer": "ipython3",
   "version": "3.6.0"
  }
 },
 "nbformat": 4,
 "nbformat_minor": 1
}
